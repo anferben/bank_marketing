{
 "cells": [
  {
   "cell_type": "markdown",
   "metadata": {},
   "source": [
    "# Bank Marketing Campaign Success"
   ]
  },
  {
   "cell_type": "markdown",
   "metadata": {},
   "source": [
    "__ML-Zoomcamp Capstone Project__"
   ]
  },
  {
   "cell_type": "markdown",
   "metadata": {},
   "source": [
    "Testing the telemarketing campaign success web service."
   ]
  },
  {
   "cell_type": "code",
   "execution_count": 1,
   "metadata": {},
   "outputs": [],
   "source": [
    "import requests"
   ]
  },
  {
   "cell_type": "code",
   "execution_count": 8,
   "metadata": {},
   "outputs": [],
   "source": [
    "url = 'http://localhost:9696/predict'"
   ]
  },
  {
   "cell_type": "code",
   "execution_count": 2,
   "metadata": {},
   "outputs": [],
   "source": [
    "customer_1 = {\n",
    "    \"age\":29,\n",
    "    \"job\":\"admin.\",\n",
    "    \"marital\":\"married\",\n",
    "    \"education\":\"secondary\",\n",
    "    \"default\":\"no\",\n",
    "    \"balance\":252,\n",
    "    \"housing\":\"yes\",\n",
    "    \"loan\":\"no\",\n",
    "    \"duration\":1223,\n",
    "    \"campaign\":3,\n",
    "    \"pdays\":371,\n",
    "    \"previous\":1,\n",
    "    \"poutcome\":\"failure\"\n",
    "}"
   ]
  },
  {
   "cell_type": "code",
   "execution_count": 3,
   "metadata": {},
   "outputs": [],
   "source": [
    "customer_2 = {\n",
    "    \"age\":46,\n",
    "    \"job\":\"management\",\n",
    "    \"marital\":\"married\",\n",
    "    \"education\":\"tertiary\",\n",
    "    \"default\":\"no\",\n",
    "    \"balance\":273,\n",
    "    \"housing\":\"yes\",\n",
    "    \"loan\":\"no\",\n",
    "    \"duration\":583,\n",
    "    \"campaign\":6,\n",
    "    \"pdays\":53,\n",
    "    \"previous\":6,\n",
    "    \"poutcome\":\"success\"\n",
    "}"
   ]
  },
  {
   "cell_type": "code",
   "execution_count": 15,
   "metadata": {},
   "outputs": [
    {
     "data": {
      "text/plain": [
       "{'Expected result': 'success', 'Success probability': 0.518}"
      ]
     },
     "execution_count": 15,
     "metadata": {},
     "output_type": "execute_result"
    }
   ],
   "source": [
    "response = requests.post(url=url, json=customer_2).json()\n",
    "response"
   ]
  }
 ],
 "metadata": {
  "interpreter": {
   "hash": "c982a6138583063440f9f6cb03e14cf2b776f92c91ddd7c253ee7d7b313b346b"
  },
  "kernelspec": {
   "display_name": "Python 3.8.5 ('ml-zoomcamp')",
   "language": "python",
   "name": "python3"
  },
  "language_info": {
   "codemirror_mode": {
    "name": "ipython",
    "version": 3
   },
   "file_extension": ".py",
   "mimetype": "text/x-python",
   "name": "python",
   "nbconvert_exporter": "python",
   "pygments_lexer": "ipython3",
   "version": "3.8.5"
  },
  "orig_nbformat": 4
 },
 "nbformat": 4,
 "nbformat_minor": 2
}
